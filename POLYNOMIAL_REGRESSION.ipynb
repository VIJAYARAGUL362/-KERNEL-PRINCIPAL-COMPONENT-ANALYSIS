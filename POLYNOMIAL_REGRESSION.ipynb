{
  "nbformat": 4,
  "nbformat_minor": 0,
  "metadata": {
    "colab": {
      "provenance": [],
      "authorship_tag": "ABX9TyOfOd9tr8Z5Cxmlq4Knzk2c",
      "include_colab_link": true
    },
    "kernelspec": {
      "name": "python3",
      "display_name": "Python 3"
    },
    "language_info": {
      "name": "python"
    }
  },
  "cells": [
    {
      "cell_type": "markdown",
      "metadata": {
        "id": "view-in-github",
        "colab_type": "text"
      },
      "source": [
        "<a href=\"https://colab.research.google.com/github/VIJAYARAGUL362/-KERNEL-PRINCIPAL-COMPONENT-ANALYSIS/blob/main/POLYNOMIAL_REGRESSION.ipynb\" target=\"_parent\"><img src=\"https://colab.research.google.com/assets/colab-badge.svg\" alt=\"Open In Colab\"/></a>"
      ]
    },
    {
      "cell_type": "code",
      "execution_count": null,
      "metadata": {
        "id": "rCJfSO9wUgw9"
      },
      "outputs": [],
      "source": []
    },
    {
      "cell_type": "code",
      "source": [
        "from google.colab import drive\n",
        "drive.mount('/content/drive')"
      ],
      "metadata": {
        "colab": {
          "base_uri": "https://localhost:8080/"
        },
        "id": "kzBcIcfXXeLv",
        "outputId": "536ec118-ea03-457d-aa62-487a5066b8b3"
      },
      "execution_count": null,
      "outputs": [
        {
          "output_type": "stream",
          "name": "stdout",
          "text": [
            "Mounted at /content/drive\n"
          ]
        }
      ]
    },
    {
      "cell_type": "markdown",
      "source": [
        "IMPORTING LIBRARIES\n"
      ],
      "metadata": {
        "id": "jWpsHeOLY443"
      }
    },
    {
      "cell_type": "code",
      "source": [
        "import numpy  as np\n",
        "import pandas as pd\n",
        "import matplotlib.pyplot as plt\n"
      ],
      "metadata": {
        "id": "Lucc1BVTZBfi"
      },
      "execution_count": null,
      "outputs": []
    },
    {
      "cell_type": "markdown",
      "source": [
        "IMPORTING DATASET"
      ],
      "metadata": {
        "id": "qqCXIYjMZMPu"
      }
    },
    {
      "cell_type": "code",
      "source": [
        "dataset=pd.read_csv('/content/drive/MyDrive/Machine Learning A-Z (Codes and Datasets)/Part 2 - Regression/Section 6 - Polynomial Regression/Python/Position_Salaries.csv')\n",
        "x=dataset.iloc[:,1:-1].values\n",
        "y=dataset.iloc[:,-1].values"
      ],
      "metadata": {
        "id": "FHbKY4auZTZI"
      },
      "execution_count": null,
      "outputs": []
    },
    {
      "cell_type": "markdown",
      "source": [
        "LINEAR REGRESSION ON THE WHOLE DATASET"
      ],
      "metadata": {
        "id": "WE3HY9_9afQg"
      }
    },
    {
      "cell_type": "code",
      "source": [
        "from sklearn.linear_model import LinearRegression\n",
        "lin_reg=LinearRegression()\n",
        "lin_reg.fit(x,y)\n",
        "print(x)"
      ],
      "metadata": {
        "colab": {
          "base_uri": "https://localhost:8080/"
        },
        "id": "2wakX5-Nar0w",
        "outputId": "210f3d09-7f47-4e48-f401-c4816df864a1"
      },
      "execution_count": null,
      "outputs": [
        {
          "output_type": "stream",
          "name": "stdout",
          "text": [
            "[[ 1]\n",
            " [ 2]\n",
            " [ 3]\n",
            " [ 4]\n",
            " [ 5]\n",
            " [ 6]\n",
            " [ 7]\n",
            " [ 8]\n",
            " [ 9]\n",
            " [10]]\n"
          ]
        }
      ]
    },
    {
      "cell_type": "markdown",
      "source": [
        "POLYNOMIAL REGRESSION ON WOLE DATSET"
      ],
      "metadata": {
        "id": "pNLEgBOpcMXy"
      }
    },
    {
      "cell_type": "code",
      "source": [
        "from sklearn.preprocessing import PolynomialFeatures\n",
        "poly_reg=PolynomialFeatures(degree=4)\n",
        "x_poly=poly_reg.fit_transform(x)\n",
        "new_lr=LinearRegression()\n",
        "new_lr.fit(x_poly,y)\n",
        "print(x_poly)\n",
        "\n"
      ],
      "metadata": {
        "id": "a4bf__DicTqa",
        "colab": {
          "base_uri": "https://localhost:8080/"
        },
        "outputId": "5cbb16df-678f-4cb2-a4f4-afdab396c52c"
      },
      "execution_count": null,
      "outputs": [
        {
          "output_type": "stream",
          "name": "stdout",
          "text": [
            "[[1.000e+00 1.000e+00 1.000e+00 1.000e+00 1.000e+00]\n",
            " [1.000e+00 2.000e+00 4.000e+00 8.000e+00 1.600e+01]\n",
            " [1.000e+00 3.000e+00 9.000e+00 2.700e+01 8.100e+01]\n",
            " [1.000e+00 4.000e+00 1.600e+01 6.400e+01 2.560e+02]\n",
            " [1.000e+00 5.000e+00 2.500e+01 1.250e+02 6.250e+02]\n",
            " [1.000e+00 6.000e+00 3.600e+01 2.160e+02 1.296e+03]\n",
            " [1.000e+00 7.000e+00 4.900e+01 3.430e+02 2.401e+03]\n",
            " [1.000e+00 8.000e+00 6.400e+01 5.120e+02 4.096e+03]\n",
            " [1.000e+00 9.000e+00 8.100e+01 7.290e+02 6.561e+03]\n",
            " [1.000e+00 1.000e+01 1.000e+02 1.000e+03 1.000e+04]]\n"
          ]
        }
      ]
    },
    {
      "cell_type": "markdown",
      "source": [
        "VISUALIZING SIMPLE LINEAR REGRESSION"
      ],
      "metadata": {
        "id": "i1wsMQ2axehv"
      }
    },
    {
      "cell_type": "code",
      "source": [
        "plt.scatter(x,y,color='pink')\n",
        "plt.plot(x,lin_reg.predict(x),color='green')\n",
        "plt.title('truth or bluff')\n",
        "plt.xlabel('position level')\n",
        "plt.ylabel('salary')\n",
        "plt.show()"
      ],
      "metadata": {
        "colab": {
          "base_uri": "https://localhost:8080/",
          "height": 472
        },
        "id": "p3p4iCMkxkpq",
        "outputId": "fa3053b1-50b4-4808-fe72-503005d552f6"
      },
      "execution_count": null,
      "outputs": [
        {
          "output_type": "display_data",
          "data": {
            "text/plain": [
              "<Figure size 640x480 with 1 Axes>"
            ],
            "image/png": "[encoded data removed]"
          },
          "metadata": {}
        }
      ]
    },
    {
      "cell_type": "markdown",
      "source": [
        "VISUALISING THE POLYNOMIAL LINEAR REGRESSION"
      ],
      "metadata": {
        "id": "fO8ETbXh3xg3"
      }
    },
    {
      "cell_type": "code",
      "source": [
        "plt.scatter(x,y,color='pink')\n",
        "plt.plot(x,new_lr.predict(x_poly),color='green')\n",
        "plt.title('truth or bluff')\n",
        "plt.xlabel('position level')\n",
        "plt.ylabel('salary')\n",
        "plt.show()"
      ],
      "metadata": {
        "colab": {
          "base_uri": "https://localhost:8080/",
          "height": 472
        },
        "outputId": "f4a71f21-9b61-44ec-e8f2-639c3c9c4f95",
        "id": "e1wL7g5J37pL"
      },
      "execution_count": null,
      "outputs": [
        {
          "output_type": "display_data",
          "data": {
            "text/plain": [
              "<Figure size 640x480 with 1 Axes>"
            ],
            "image/png": "[encoded data removed]"
          },
          "metadata": {}
        }
      ]
    },
    {
      "cell_type": "markdown",
      "source": [
        "PREDICTING THE REAL SALARY USING THE LINEAR REGRESSION"
      ],
      "metadata": {
        "id": "h5wrjbI6ALNM"
      }
    },
    {
      "cell_type": "code",
      "source": [
        "lin_reg.predict([[6.5]])"
      ],
      "metadata": {
        "colab": {
          "base_uri": "https://localhost:8080/"
        },
        "id": "OnqkYxIHATb5",
        "outputId": "194d3c59-706a-46eb-f9ac-102da3e09364"
      },
      "execution_count": null,
      "outputs": [
        {
          "output_type": "execute_result",
          "data": {
            "text/plain": [
              "array([330378.78787879])"
            ]
          },
          "metadata": {},
          "execution_count": 24
        }
      ]
    },
    {
      "cell_type": "markdown",
      "source": [
        "PREDICTING THE REAL SALARY WITH POLYNOMIAL LINEAR REGRESSION"
      ],
      "metadata": {
        "id": "0SyiFTb7D1pB"
      }
    },
    {
      "cell_type": "code",
      "source": [
        "new_lr.predict(poly_reg.fit_transform([[6.5]]))"
      ],
      "metadata": {
        "colab": {
          "base_uri": "https://localhost:8080/"
        },
        "id": "w3IaRhtED8i8",
        "outputId": "136de619-7e23-473d-e301-f730a171b51d"
      },
      "execution_count": null,
      "outputs": [
        {
          "output_type": "execute_result",
          "data": {
            "text/plain": [
              "array([158862.45265155])"
            ]
          },
          "metadata": {},
          "execution_count": 30
        }
      ]
    }
  ]
}